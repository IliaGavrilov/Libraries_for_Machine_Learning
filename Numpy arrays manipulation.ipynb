{
 "cells": [
  {
   "cell_type": "code",
   "execution_count": 1,
   "metadata": {
    "collapsed": true
   },
   "outputs": [],
   "source": [
    "import numpy as np"
   ]
  },
  {
   "cell_type": "code",
   "execution_count": 2,
   "metadata": {
    "collapsed": true
   },
   "outputs": [],
   "source": [
    "x = np.array([1,2,3])"
   ]
  },
  {
   "cell_type": "code",
   "execution_count": 3,
   "metadata": {
    "collapsed": true
   },
   "outputs": [],
   "source": [
    "y = np.random.rand(4,5)"
   ]
  },
  {
   "cell_type": "code",
   "execution_count": 4,
   "metadata": {},
   "outputs": [
    {
     "name": "stdout",
     "output_type": "stream",
     "text": [
      "[1 2 3] [[ 0.11358207  0.16119631  0.48607755  0.36881291  0.5766336 ]\n",
      " [ 0.30813829  0.04243911  0.21241625  0.96238761  0.33507245]\n",
      " [ 0.45358284  0.94793668  0.28581916  0.58043343  0.01715032]\n",
      " [ 0.26109831  0.27985212  0.8477972   0.94037222  0.66067557]]\n"
     ]
    }
   ],
   "source": [
    "print(x,y)"
   ]
  },
  {
   "cell_type": "code",
   "execution_count": 6,
   "metadata": {
    "collapsed": true
   },
   "outputs": [],
   "source": [
    "y.sort()"
   ]
  },
  {
   "cell_type": "code",
   "execution_count": 7,
   "metadata": {},
   "outputs": [
    {
     "name": "stdout",
     "output_type": "stream",
     "text": [
      "[[ 0.11358207  0.16119631  0.36881291  0.48607755  0.5766336 ]\n",
      " [ 0.04243911  0.21241625  0.30813829  0.33507245  0.96238761]\n",
      " [ 0.01715032  0.28581916  0.45358284  0.58043343  0.94793668]\n",
      " [ 0.26109831  0.27985212  0.66067557  0.8477972   0.94037222]]\n"
     ]
    }
   ],
   "source": [
    "print(y)"
   ]
  },
  {
   "cell_type": "code",
   "execution_count": 9,
   "metadata": {},
   "outputs": [
    {
     "data": {
      "text/plain": [
       "0.94793667914399282"
      ]
     },
     "execution_count": 9,
     "metadata": {},
     "output_type": "execute_result"
    }
   ],
   "source": [
    "y[2,4]"
   ]
  },
  {
   "cell_type": "code",
   "execution_count": 11,
   "metadata": {},
   "outputs": [
    {
     "data": {
      "text/plain": [
       "array([[ 0.05679103,  0.08059816,  0.18440645,  0.24303877,  0.2883168 ],\n",
       "       [ 0.02121956,  0.10620813,  0.15406915,  0.16753622,  0.4811938 ],\n",
       "       [ 0.00857516,  0.14290958,  0.22679142,  0.29021672,  0.47396834],\n",
       "       [ 0.13054916,  0.13992606,  0.33033779,  0.4238986 ,  0.47018611]])"
      ]
     },
     "execution_count": 11,
     "metadata": {},
     "output_type": "execute_result"
    }
   ],
   "source": [
    "np.multiply(y,0.5)"
   ]
  },
  {
   "cell_type": "code",
   "execution_count": 20,
   "metadata": {},
   "outputs": [
    {
     "data": {
      "text/plain": [
       "array([[ 0.09171226,  0.03525498,  0.04154922,  0.42031444,  0.15890226],\n",
       "       [ 0.00878337,  0.15845667,  0.1475772 ,  0.00736654,  0.55610749],\n",
       "       [ 0.01366667,  0.04939397,  0.13748633,  0.39369087,  0.2570047 ],\n",
       "       [ 0.04003154,  0.23752677,  0.087911  ,  0.78826479,  0.69709669]])"
      ]
     },
     "execution_count": 20,
     "metadata": {},
     "output_type": "execute_result"
    }
   ],
   "source": [
    "z = np.random.rand(4,5)\n",
    "np.multiply(y,z)"
   ]
  },
  {
   "cell_type": "code",
   "execution_count": 21,
   "metadata": {},
   "outputs": [
    {
     "data": {
      "text/plain": [
       "array([[ 0.80745368,  0.21870838,  0.11265663,  0.86470655,  0.27556885],\n",
       "       [ 0.20696395,  0.74597246,  0.47893172,  0.02198492,  0.57784149],\n",
       "       [ 0.79687569,  0.17281545,  0.30311184,  0.6782705 ,  0.27112011],\n",
       "       [ 0.15331978,  0.84875815,  0.13306228,  0.92977989,  0.74129868]])"
      ]
     },
     "execution_count": 21,
     "metadata": {},
     "output_type": "execute_result"
    }
   ],
   "source": [
    "np.abs(z)"
   ]
  },
  {
   "cell_type": "code",
   "execution_count": 28,
   "metadata": {},
   "outputs": [
    {
     "data": {
      "text/plain": [
       "0.090206198934967965"
      ]
     },
     "execution_count": 28,
     "metadata": {},
     "output_type": "execute_result"
    }
   ],
   "source": [
    "np.var(z)"
   ]
  },
  {
   "cell_type": "code",
   "execution_count": null,
   "metadata": {
    "collapsed": true
   },
   "outputs": [],
   "source": []
  }
 ],
 "metadata": {
  "kernelspec": {
   "display_name": "Python 3",
   "language": "python",
   "name": "python3"
  },
  "language_info": {
   "codemirror_mode": {
    "name": "ipython",
    "version": 3
   },
   "file_extension": ".py",
   "mimetype": "text/x-python",
   "name": "python",
   "nbconvert_exporter": "python",
   "pygments_lexer": "ipython3",
   "version": "3.6.1"
  }
 },
 "nbformat": 4,
 "nbformat_minor": 2
}
