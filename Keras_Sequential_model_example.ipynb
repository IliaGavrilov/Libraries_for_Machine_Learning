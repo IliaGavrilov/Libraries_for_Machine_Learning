{
 "cells": [
  {
   "cell_type": "code",
   "execution_count": 1,
   "metadata": {
    "collapsed": true
   },
   "outputs": [],
   "source": [
    "import numpy as np"
   ]
  },
  {
   "cell_type": "code",
   "execution_count": 2,
   "metadata": {},
   "outputs": [
    {
     "name": "stderr",
     "output_type": "stream",
     "text": [
      "Using TensorFlow backend.\n"
     ]
    }
   ],
   "source": [
    "from keras.models import Sequential"
   ]
  },
  {
   "cell_type": "code",
   "execution_count": 3,
   "metadata": {
    "collapsed": true
   },
   "outputs": [],
   "source": [
    "from keras.layers import Dense"
   ]
  },
  {
   "cell_type": "code",
   "execution_count": 4,
   "metadata": {
    "collapsed": true
   },
   "outputs": [],
   "source": [
    "data = np.random.random((1000,100))"
   ]
  },
  {
   "cell_type": "code",
   "execution_count": 5,
   "metadata": {
    "collapsed": true
   },
   "outputs": [],
   "source": [
    "labels = np.random.randint(2, size=(1000,1))"
   ]
  },
  {
   "cell_type": "code",
   "execution_count": 6,
   "metadata": {
    "collapsed": true
   },
   "outputs": [],
   "source": [
    "model = Sequential()"
   ]
  },
  {
   "cell_type": "code",
   "execution_count": 7,
   "metadata": {
    "collapsed": true
   },
   "outputs": [],
   "source": [
    "model.add(Dense(32, activation='relu', input_dim=100))"
   ]
  },
  {
   "cell_type": "code",
   "execution_count": 8,
   "metadata": {
    "collapsed": true
   },
   "outputs": [],
   "source": [
    "model.add(Dense(1, activation='sigmoid'))"
   ]
  },
  {
   "cell_type": "code",
   "execution_count": 9,
   "metadata": {
    "collapsed": true
   },
   "outputs": [],
   "source": [
    "model.compile(optimizer=\"rmsprop\", loss='binary_crossentropy', metrics=['accuracy'])"
   ]
  },
  {
   "cell_type": "code",
   "execution_count": 10,
   "metadata": {},
   "outputs": [
    {
     "name": "stdout",
     "output_type": "stream",
     "text": [
      "Epoch 1/3\n",
      "1000/1000 [==============================] - 2s 2ms/step - loss: 0.7206 - acc: 0.4910\n",
      "Epoch 2/3\n",
      "1000/1000 [==============================] - 0s 161us/step - loss: 0.7040 - acc: 0.5200\n",
      "Epoch 3/3\n",
      "1000/1000 [==============================] - 0s 185us/step - loss: 0.6955 - acc: 0.5410\n"
     ]
    },
    {
     "data": {
      "text/plain": [
       "<keras.callbacks.History at 0xc784e882b0>"
      ]
     },
     "execution_count": 10,
     "metadata": {},
     "output_type": "execute_result"
    }
   ],
   "source": [
    "model.fit(data,labels,epochs=3,batch_size=32)"
   ]
  },
  {
   "cell_type": "code",
   "execution_count": 11,
   "metadata": {
    "collapsed": true
   },
   "outputs": [],
   "source": [
    "predictions = model.predict(data)"
   ]
  },
  {
   "cell_type": "code",
   "execution_count": 15,
   "metadata": {},
   "outputs": [
    {
     "name": "stdout",
     "output_type": "stream",
     "text": [
      "Epoch 1/6\n",
      "1000/1000 [==============================] - 0s 148us/step - loss: 0.6847 - acc: 0.5580\n",
      "Epoch 2/6\n",
      "1000/1000 [==============================] - 0s 139us/step - loss: 0.6829 - acc: 0.5640\n",
      "Epoch 3/6\n",
      "1000/1000 [==============================] - 0s 143us/step - loss: 0.6814 - acc: 0.5570\n",
      "Epoch 4/6\n",
      "1000/1000 [==============================] - 0s 140us/step - loss: 0.6709 - acc: 0.6030\n",
      "Epoch 5/6\n",
      "1000/1000 [==============================] - 0s 142us/step - loss: 0.6716 - acc: 0.5840\n",
      "Epoch 6/6\n",
      "1000/1000 [==============================] - 0s 178us/step - loss: 0.6629 - acc: 0.5930 0s - loss: 0.6634 - acc: 0.592\n"
     ]
    },
    {
     "data": {
      "text/plain": [
       "<keras.callbacks.History at 0xc785c52358>"
      ]
     },
     "execution_count": 15,
     "metadata": {},
     "output_type": "execute_result"
    }
   ],
   "source": [
    "model.fit(data,labels,epochs=6,batch_size=32)"
   ]
  },
  {
   "cell_type": "code",
   "execution_count": 16,
   "metadata": {},
   "outputs": [
    {
     "name": "stdout",
     "output_type": "stream",
     "text": [
      "Epoch 1/10\n",
      "1000/1000 [==============================] - 0s 145us/step - loss: 0.6654 - acc: 0.5880\n",
      "Epoch 2/10\n",
      "1000/1000 [==============================] - 0s 134us/step - loss: 0.6574 - acc: 0.6150\n",
      "Epoch 3/10\n",
      "1000/1000 [==============================] - 0s 144us/step - loss: 0.6484 - acc: 0.6360\n",
      "Epoch 4/10\n",
      "1000/1000 [==============================] - 0s 139us/step - loss: 0.6461 - acc: 0.6250\n",
      "Epoch 5/10\n",
      "1000/1000 [==============================] - 0s 148us/step - loss: 0.6424 - acc: 0.6430 0s - loss: 0.6429 - acc: 0.645\n",
      "Epoch 6/10\n",
      "1000/1000 [==============================] - 0s 145us/step - loss: 0.6411 - acc: 0.6320\n",
      "Epoch 7/10\n",
      "1000/1000 [==============================] - 0s 147us/step - loss: 0.6400 - acc: 0.6490\n",
      "Epoch 8/10\n",
      "1000/1000 [==============================] - 0s 150us/step - loss: 0.6359 - acc: 0.6460\n",
      "Epoch 9/10\n",
      "1000/1000 [==============================] - 0s 171us/step - loss: 0.6257 - acc: 0.6550\n",
      "Epoch 10/10\n",
      "1000/1000 [==============================] - 0s 140us/step - loss: 0.6260 - acc: 0.6610\n"
     ]
    },
    {
     "data": {
      "text/plain": [
       "<keras.callbacks.History at 0xc785aaa588>"
      ]
     },
     "execution_count": 16,
     "metadata": {},
     "output_type": "execute_result"
    }
   ],
   "source": [
    "model.fit(data,labels,epochs=10,batch_size=32)"
   ]
  },
  {
   "cell_type": "code",
   "execution_count": 17,
   "metadata": {
    "collapsed": true
   },
   "outputs": [],
   "source": [
    "predictions = model.predict(data)"
   ]
  },
  {
   "cell_type": "code",
   "execution_count": null,
   "metadata": {
    "collapsed": true
   },
   "outputs": [],
   "source": []
  }
 ],
 "metadata": {
  "kernelspec": {
   "display_name": "Python 3",
   "language": "python",
   "name": "python3"
  },
  "language_info": {
   "codemirror_mode": {
    "name": "ipython",
    "version": 3
   },
   "file_extension": ".py",
   "mimetype": "text/x-python",
   "name": "python",
   "nbconvert_exporter": "python",
   "pygments_lexer": "ipython3",
   "version": "3.6.3"
  }
 },
 "nbformat": 4,
 "nbformat_minor": 2
}
